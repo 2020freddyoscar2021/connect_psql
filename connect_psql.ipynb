{
 "cells": [
  {
   "cell_type": "code",
   "execution_count": 1,
   "id": "e2e58287",
   "metadata": {},
   "outputs": [],
   "source": [
    "# Reconocimiento de ip´s en la red\n",
    "import os\n",
    "import threading\n",
    "\n",
    "info= []\n",
    "def search(ip_address, info):\n",
    "    # enviar ping\n",
    "    command= \"ping -c 4 \" + ip_address + ' | grep \"4 packets\"' + \" | awk '{print $4,$5}'\"\n",
    "    response= os.popen(command).read()\n",
    "    if \"4 received\" in response:\n",
    "        info.append(ip_address)\n",
    "\n",
    "for ip in range (1,255):\n",
    "    current_ip= \"192.168.100.\" + str(ip) #range ip\n",
    "\n",
    "    run=threading.Thread(target=search, args=(current_ip, info))\n",
    "    run.start()"
   ]
  },
  {
   "cell_type": "code",
   "execution_count": 6,
   "id": "d456814e",
   "metadata": {},
   "outputs": [
    {
     "name": "stdout",
     "output_type": "stream",
     "text": [
      ">>> CONEXIÓN EXITOSA\n"
     ]
    }
   ],
   "source": [
    "# Conectar a postgreSQL\n",
    "import psycopg2\n",
    "from psycopg2 import Error\n",
    "\n",
    "try:\n",
    "    conexion = psycopg2.connect(host=\"localhost\",\n",
    "                                user=\"home\", \n",
    "                                password=\"1234\", \n",
    "                                database=\"ip_recog\")\n",
    "    boolean= 1\n",
    "    print('>>> CONEXIÓN EXITOSA')\n",
    "except:\n",
    "    print(\"Error: Configuración no válida\")\n",
    "    boolean= 0\n",
    "    \n",
    "# Establecer conexión automática\n",
    "if boolean==1:\n",
    "    conexion.autocommit= True\n",
    "else:\n",
    "    print(\"No existe conexión con postgre\")"
   ]
  },
  {
   "cell_type": "code",
   "execution_count": 3,
   "id": "501b672f",
   "metadata": {},
   "outputs": [],
   "source": [
    "def extraer_datos():\n",
    "    cursor= conexion.cursor()\n",
    "    try:\n",
    "        query= \"\"\"SELECT * FROM ip_found;\"\"\" \n",
    "        cursor.execute(query)\n",
    "        data= cursor.fetchall()\n",
    "        print(f\">>> {query}\")\n",
    "        print(data)\n",
    "        cursor.close()\n",
    "    except:\n",
    "        print(f\">>> {query}\")\n",
    "        print(\"Error: Tabla no existente\")\n",
    "        \n",
    "def enviar_data(ip,info):\n",
    "    cursor= conexion.cursor()\n",
    "    try:\n",
    "        query= f\"\"\"INSERT INTO ip_found (ip) VALUES ('{ip}')\\n\"\"\"\n",
    "        cursor.execute(query)\n",
    "        cursor.close()\n",
    "        print(f\">>> {query}\")\n",
    "    except:\n",
    "        print(\"Error: \")\n",
    "        print(query)"
   ]
  },
  {
   "cell_type": "code",
   "execution_count": 7,
   "id": "24fbaa83",
   "metadata": {
    "scrolled": true
   },
   "outputs": [
    {
     "name": "stdout",
     "output_type": "stream",
     "text": [
      ">>> Data send postgre <<<\n",
      "['192.168.100.5', '192.168.100.1', '192.168.100.7', '192.168.100.30', '192.168.100.6']\n",
      "\n"
     ]
    }
   ],
   "source": [
    "print(f\"\"\">>> Data send postgre <<<\\n{info}\\n\"\"\")"
   ]
  },
  {
   "cell_type": "code",
   "execution_count": 16,
   "id": "e27a00fe",
   "metadata": {},
   "outputs": [
    {
     "name": "stdout",
     "output_type": "stream",
     "text": [
      ">>> SELECT * FROM ip_found;\n",
      "[('192.168.100.88',), ('192.168.100.5',), ('192.168.100.1',), ('192.168.100.7',), ('192.168.100.30',), ('192.168.100.6',), ('192.168.100.5',), ('192.168.100.1',), ('192.168.100.7',), ('192.168.100.30',), ('192.168.100.6',)]\n",
      "\n",
      "\n"
     ]
    }
   ],
   "source": [
    "# extraer_datos()\n",
    "try:\n",
    "    extraer_datos()\n",
    "    print(\"\\n\")\n",
    "    # enviar_data()\n",
    "    indice = 0\n",
    "    longitud = len(info)\n",
    "    longitud = longitud - 1\n",
    "\n",
    "    if boolean==1:\n",
    "        ContinueExecuting = False ###### Write True for send data ######\n",
    "        while ContinueExecuting:\n",
    "            for i in info:\n",
    "                ip= i\n",
    "                run2=threading.Thread(target=enviar_data, args=(ip, info))\n",
    "                run2.start()\n",
    "                ContinueExecuting = False\n",
    "    else:\n",
    "        print(\"\"\"Error conexión: Imposible enviar datos a tabla postgre\"\"\")\n",
    "except:\n",
    "    print(\"Error conexión: Imposible extraer datos de tabla postgre\")"
   ]
  },
  {
   "cell_type": "code",
   "execution_count": null,
   "id": "07d826a4",
   "metadata": {},
   "outputs": [],
   "source": []
  }
 ],
 "metadata": {
  "kernelspec": {
   "display_name": "Python 3 (ipykernel)",
   "language": "python",
   "name": "python3"
  },
  "language_info": {
   "codemirror_mode": {
    "name": "ipython",
    "version": 3
   },
   "file_extension": ".py",
   "mimetype": "text/x-python",
   "name": "python",
   "nbconvert_exporter": "python",
   "pygments_lexer": "ipython3",
   "version": "3.9.0"
  }
 },
 "nbformat": 4,
 "nbformat_minor": 5
}
